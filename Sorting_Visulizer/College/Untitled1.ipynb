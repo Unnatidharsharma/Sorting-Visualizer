{
 "cells": [
  {
   "cell_type": "code",
   "execution_count": 4,
   "id": "1d559d5b-d128-43d2-8323-700703e8935d",
   "metadata": {},
   "outputs": [],
   "source": [
    "import pandas as pd\n",
    "import numpy as np\n",
    "import matplotlib.pyplot as plt\n",
    "import seaborn as sns"
   ]
  },
  {
   "cell_type": "code",
   "execution_count": 27,
   "id": "2330da0a-2d23-4615-86cf-539084492b35",
   "metadata": {},
   "outputs": [],
   "source": [
    "df = pd.read_csv(\"wine_data.csv\")"
   ]
  },
  {
   "cell_type": "code",
   "execution_count": null,
   "id": "3e573c9b-4313-421b-a284-785d2d65fbb3",
   "metadata": {},
   "outputs": [],
   "source": [
    "df_col.head()"
   ]
  },
  {
   "cell_type": "code",
   "execution_count": null,
   "id": "8bc96c81-eb32-49da-9618-61529195ebc0",
   "metadata": {},
   "outputs": [],
   "source": []
  }
 ],
 "metadata": {
  "kernelspec": {
   "display_name": "Python 3 (ipykernel)",
   "language": "python",
   "name": "python3"
  },
  "language_info": {
   "codemirror_mode": {
    "name": "ipython",
    "version": 3
   },
   "file_extension": ".py",
   "mimetype": "text/x-python",
   "name": "python",
   "nbconvert_exporter": "python",
   "pygments_lexer": "ipython3",
   "version": "3.12.3"
  }
 },
 "nbformat": 4,
 "nbformat_minor": 5
}
