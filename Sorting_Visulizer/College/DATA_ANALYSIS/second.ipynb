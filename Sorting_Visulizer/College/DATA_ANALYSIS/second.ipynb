{
 "cells": [
  {
   "cell_type": "markdown",
   "id": "f72a468a-6f75-402c-8f19-29a6449b85e8",
   "metadata": {},
   "source": [
    "FUNCTION"
   ]
  },
  {
   "cell_type": "code",
   "execution_count": 5,
   "id": "6014a3cb-f6e4-4d17-ae7d-2a78bdaa2809",
   "metadata": {},
   "outputs": [],
   "source": [
    "def my_fun(para1=\"Default\"):\n",
    "    \"\"\"\"hello everyone\"\"\"\n",
    "    print(para1)"
   ]
  },
  {
   "cell_type": "code",
   "execution_count": 7,
   "id": "357f01fa-2b62-4dee-9316-8f43b125139d",
   "metadata": {},
   "outputs": [
    {
     "data": {
      "text/plain": [
       "<function __main__.my_fun(para1='Default')>"
      ]
     },
     "execution_count": 7,
     "metadata": {},
     "output_type": "execute_result"
    }
   ],
   "source": [
    "my_fun"
   ]
  },
  {
   "cell_type": "code",
   "execution_count": 9,
   "id": "088890e1-68ce-4beb-a4f7-696c96a33fc2",
   "metadata": {},
   "outputs": [
    {
     "name": "stdout",
     "output_type": "stream",
     "text": [
      "Default\n"
     ]
    }
   ],
   "source": [
    "my_fun()"
   ]
  },
  {
   "cell_type": "code",
   "execution_count": 11,
   "id": "3b63e938-6202-49fb-87cf-0c29dc6c0d4c",
   "metadata": {},
   "outputs": [
    {
     "name": "stdout",
     "output_type": "stream",
     "text": [
      "hi\n"
     ]
    }
   ],
   "source": [
    "my_fun(\"hi\")"
   ]
  },
  {
   "cell_type": "code",
   "execution_count": 15,
   "id": "2bf7458e-91bd-4e20-82a5-efa418b94b1a",
   "metadata": {},
   "outputs": [
    {
     "ename": "TypeError",
     "evalue": "findSum() takes 2 positional arguments but 3 were given",
     "output_type": "error",
     "traceback": [
      "\u001b[1;31m---------------------------------------------------------------------------\u001b[0m",
      "\u001b[1;31mTypeError\u001b[0m                                 Traceback (most recent call last)",
      "Cell \u001b[1;32mIn[15], line 7\u001b[0m\n\u001b[0;32m      5\u001b[0m y \u001b[38;5;241m=\u001b[39m \u001b[38;5;241m7\u001b[39m\n\u001b[0;32m      6\u001b[0m p \u001b[38;5;241m=\u001b[39m \u001b[38;5;241m5\u001b[39m\n\u001b[1;32m----> 7\u001b[0m z \u001b[38;5;241m=\u001b[39m findSum(x,y,p)\n\u001b[0;32m      8\u001b[0m \u001b[38;5;28mprint\u001b[39m(z)\n",
      "\u001b[1;31mTypeError\u001b[0m: findSum() takes 2 positional arguments but 3 were given"
     ]
    }
   ],
   "source": [
    "def findSum(a,b):\n",
    "    result = a+b\n",
    "    return result\n",
    "x = 5\n",
    "y = 7\n",
    "p = 5\n",
    "z = findSum(x,y,p)\n",
    "print(z)"
   ]
  },
  {
   "cell_type": "code",
   "execution_count": 17,
   "id": "698935eb-3144-4315-a016-49849bd94b0f",
   "metadata": {},
   "outputs": [
    {
     "name": "stdout",
     "output_type": "stream",
     "text": [
      "75 33 1134 2.5714285714285716\n"
     ]
    }
   ],
   "source": [
    "def arithmetic(num1, num2):\n",
    "    add = num1+num2\n",
    "    sub = num1-num2\n",
    "    mul = num1*num2\n",
    "    div = num1/num2\n",
    "    return add,sub,mul,div\n",
    "a,b,c,d=arithmetic(54,21)\n",
    "print(a,b,c,d)"
   ]
  },
  {
   "cell_type": "code",
   "execution_count": 19,
   "id": "800a185d-510a-40d0-93bc-ff3815d35202",
   "metadata": {},
   "outputs": [
    {
     "name": "stdout",
     "output_type": "stream",
     "text": [
      "my first name is Unnatidhar and my last name is Sharma\n"
     ]
    }
   ],
   "source": [
    "def my_fun(fname,lname):\n",
    "    print(f\"my first name is {fname} and my last name is {lname}\")\n",
    "my_fun(\"Unnatidhar\", \"Sharma\")"
   ]
  },
  {
   "cell_type": "code",
   "execution_count": 21,
   "id": "47593a65-c174-4ca8-8273-8795ef37c0e3",
   "metadata": {},
   "outputs": [
    {
     "name": "stdout",
     "output_type": "stream",
     "text": [
      "my first name is Unnatidhar and my last name is sharma\n"
     ]
    }
   ],
   "source": [
    "def my_fun(fname,lname):\n",
    "    print(f\"my first name is {fname} and my last name is {lname}\")\n",
    "my_fun(lname=\"sharma\", fname=\"Unnatidhar\")"
   ]
  },
  {
   "cell_type": "markdown",
   "id": "a7ac060c-1a3d-4013-94fe-b4dbbdaa13c5",
   "metadata": {},
   "source": [
    "default "
   ]
  },
  {
   "cell_type": "code",
   "execution_count": 24,
   "id": "e648d876-3eaa-4ec3-8f45-a59ae218f4fc",
   "metadata": {},
   "outputs": [
    {
     "name": "stdout",
     "output_type": "stream",
     "text": [
      "my first name is Unnaidhar and my last name is Sharma\n"
     ]
    }
   ],
   "source": [
    "def my_fun(fname, lname=\"Sharma\"):\n",
    "    print(f\"my first name is {fname} and my last name is {lname}\")\n",
    "my_fun(\"Unnaidhar\")"
   ]
  },
  {
   "cell_type": "code",
   "execution_count": 28,
   "id": "59d3bc60-27ad-4e8f-a77f-39151aa7f3ed",
   "metadata": {},
   "outputs": [
    {
     "name": "stdout",
     "output_type": "stream",
     "text": [
      "the sum of number is: 60\n",
      "the sum of number is: 150\n"
     ]
    }
   ],
   "source": [
    "def sum_num(num1,*num):\n",
    "    result = num1\n",
    "    for i in num:\n",
    "        result += i\n",
    "    return result\n",
    "r = sum_num(10,20,30)\n",
    "print(f\"the sum of number is: {r}\")\n",
    "r = sum_num(10,20,30,40,50)\n",
    "print(f\"the sum of number is: {r}\")"
   ]
  },
  {
   "cell_type": "code",
   "execution_count": null,
   "id": "78cbb624-33be-4b77-ada8-f4e1e2c8292b",
   "metadata": {},
   "outputs": [],
   "source": []
  }
 ],
 "metadata": {
  "kernelspec": {
   "display_name": "Python 3 (ipykernel)",
   "language": "python",
   "name": "python3"
  },
  "language_info": {
   "codemirror_mode": {
    "name": "ipython",
    "version": 3
   },
   "file_extension": ".py",
   "mimetype": "text/x-python",
   "name": "python",
   "nbconvert_exporter": "python",
   "pygments_lexer": "ipython3",
   "version": "3.12.3"
  }
 },
 "nbformat": 4,
 "nbformat_minor": 5
}
