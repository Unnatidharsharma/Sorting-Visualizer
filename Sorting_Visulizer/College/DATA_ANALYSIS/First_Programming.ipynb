{
 "cells": [
  {
   "cell_type": "code",
   "execution_count": 1,
   "id": "dd5b2c58-89c8-403f-93a8-deb9f11c14bd",
   "metadata": {},
   "outputs": [
    {
     "data": {
      "text/plain": [
       "[1, 2, 3, 'a', ['a', 'b', 'c']]"
      ]
     },
     "execution_count": 1,
     "metadata": {},
     "output_type": "execute_result"
    }
   ],
   "source": [
    "list = [1,2,3, 'a', ['a','b','c']]\n",
    "list"
   ]
  },
  {
   "cell_type": "code",
   "execution_count": 3,
   "id": "55036cdf-58d3-40d1-ae29-85ebd922947e",
   "metadata": {},
   "outputs": [
    {
     "data": {
      "text/plain": [
       "2"
      ]
     },
     "execution_count": 3,
     "metadata": {},
     "output_type": "execute_result"
    }
   ],
   "source": [
    "1+1"
   ]
  },
  {
   "cell_type": "code",
   "execution_count": 5,
   "id": "25ee1032-9699-4ec5-9e29-40bcb9994e42",
   "metadata": {},
   "outputs": [
    {
     "data": {
      "text/plain": [
       "4"
      ]
     },
     "execution_count": 5,
     "metadata": {},
     "output_type": "execute_result"
    }
   ],
   "source": [
    "1+3"
   ]
  },
  {
   "cell_type": "code",
   "execution_count": 7,
   "id": "137d0c3d-dc7d-4ec3-ac1c-2e7478179a6f",
   "metadata": {},
   "outputs": [
    {
     "data": {
      "text/plain": [
       "0.5"
      ]
     },
     "execution_count": 7,
     "metadata": {},
     "output_type": "execute_result"
    }
   ],
   "source": [
    "1/2"
   ]
  },
  {
   "cell_type": "code",
   "execution_count": 9,
   "id": "1740054d-5539-4f9c-9dcb-446ba55cef93",
   "metadata": {},
   "outputs": [
    {
     "data": {
      "text/plain": [
       "16"
      ]
     },
     "execution_count": 9,
     "metadata": {},
     "output_type": "execute_result"
    }
   ],
   "source": [
    "2**4"
   ]
  },
  {
   "cell_type": "code",
   "execution_count": 11,
   "id": "1dc354b6-662e-4080-a276-91ef24bdc4c5",
   "metadata": {},
   "outputs": [
    {
     "data": {
      "text/plain": [
       "140715460549112"
      ]
     },
     "execution_count": 11,
     "metadata": {},
     "output_type": "execute_result"
    }
   ],
   "source": [
    "X = 2\n",
    "Y = 3\n",
    "id(X)\n",
    "id(Y)"
   ]
  },
  {
   "cell_type": "code",
   "execution_count": 13,
   "id": "8834476f-e980-478b-a390-fccbb60dd123",
   "metadata": {},
   "outputs": [
    {
     "data": {
      "text/plain": [
       "140715460549112"
      ]
     },
     "execution_count": 13,
     "metadata": {},
     "output_type": "execute_result"
    }
   ],
   "source": [
    "id(Y)"
   ]
  },
  {
   "cell_type": "code",
   "execution_count": 15,
   "id": "d63639eb-2bd5-4b4e-acba-00d7a3966d1e",
   "metadata": {},
   "outputs": [
    {
     "data": {
      "text/plain": [
       "int"
      ]
     },
     "execution_count": 15,
     "metadata": {},
     "output_type": "execute_result"
    }
   ],
   "source": [
    "type(Y)"
   ]
  },
  {
   "cell_type": "code",
   "execution_count": null,
   "id": "3b25e8e9-1e43-4492-a41f-96d415478f94",
   "metadata": {},
   "outputs": [],
   "source": [
    "#Armstron number \n"
   ]
  },
  {
   "cell_type": "code",
   "execution_count": 17,
   "id": "647f78a0-2d01-4114-84d9-c5df88671770",
   "metadata": {},
   "outputs": [
    {
     "data": {
      "text/plain": [
       "1"
      ]
     },
     "execution_count": 17,
     "metadata": {},
     "output_type": "execute_result"
    }
   ],
   "source": [
    "10//7"
   ]
  },
  {
   "cell_type": "code",
   "execution_count": 33,
   "id": "1ef5f5db-6c56-4da8-be3c-acb46fb7c57c",
   "metadata": {},
   "outputs": [],
   "source": [
    "X = 'Unnatidhar Sharma'\n",
    "Y = \"Unnatidhar Sharma\"\n",
    "Z = \"\"\"Unnatidhar Sharma \n",
    "I am from bihar.\"\"\""
   ]
  },
  {
   "cell_type": "code",
   "execution_count": 23,
   "id": "ae58342f-6a1e-4ae1-adb0-2e19db5c9041",
   "metadata": {},
   "outputs": [
    {
     "data": {
      "text/plain": [
       "'Unnatidhar Sharma'"
      ]
     },
     "execution_count": 23,
     "metadata": {},
     "output_type": "execute_result"
    }
   ],
   "source": [
    "X\n"
   ]
  },
  {
   "cell_type": "code",
   "execution_count": 25,
   "id": "f24233c3-fc10-4f0c-a0cf-f59d354be57a",
   "metadata": {},
   "outputs": [
    {
     "data": {
      "text/plain": [
       "'Unnatidhar Sharma'"
      ]
     },
     "execution_count": 25,
     "metadata": {},
     "output_type": "execute_result"
    }
   ],
   "source": [
    "Y"
   ]
  },
  {
   "cell_type": "code",
   "execution_count": 31,
   "id": "8e7f8def-fd84-4fbe-af5a-e217b0fe6250",
   "metadata": {},
   "outputs": [
    {
     "data": {
      "text/plain": [
       "'Unnatidhar Sharma I am from bihar.'"
      ]
     },
     "execution_count": 31,
     "metadata": {},
     "output_type": "execute_result"
    }
   ],
   "source": [
    "Z"
   ]
  },
  {
   "cell_type": "code",
   "execution_count": 35,
   "id": "d7f422e1-2fed-46a4-8068-cac8e9ddaea3",
   "metadata": {},
   "outputs": [
    {
     "name": "stdout",
     "output_type": "stream",
     "text": [
      "Unnatidhar Sharma \n",
      "I am from bihar.\n"
     ]
    }
   ],
   "source": [
    "print(Z)"
   ]
  },
  {
   "cell_type": "code",
   "execution_count": 37,
   "id": "271ddbb4-23a5-4830-8ebc-c294281b14a6",
   "metadata": {},
   "outputs": [
    {
     "data": {
      "text/plain": [
       "'hello'"
      ]
     },
     "execution_count": 37,
     "metadata": {},
     "output_type": "execute_result"
    }
   ],
   "source": [
    "X = 'hello'\n",
    "X"
   ]
  },
  {
   "cell_type": "code",
   "execution_count": 39,
   "id": "8dfddc7b-0b65-4c50-afc4-8a943fb1502f",
   "metadata": {},
   "outputs": [
    {
     "name": "stdout",
     "output_type": "stream",
     "text": [
      "hello\n"
     ]
    }
   ],
   "source": [
    "print(X)"
   ]
  },
  {
   "cell_type": "code",
   "execution_count": null,
   "id": "e8ff99fe-d062-4e70-8b9b-e666386109e8",
   "metadata": {},
   "outputs": [],
   "source": [
    "  "
   ]
  }
 ],
 "metadata": {
  "kernelspec": {
   "display_name": "Python 3 (ipykernel)",
   "language": "python",
   "name": "python3"
  },
  "language_info": {
   "codemirror_mode": {
    "name": "ipython",
    "version": 3
   },
   "file_extension": ".py",
   "mimetype": "text/x-python",
   "name": "python",
   "nbconvert_exporter": "python",
   "pygments_lexer": "ipython3",
   "version": "3.12.3"
  }
 },
 "nbformat": 4,
 "nbformat_minor": 5
}
